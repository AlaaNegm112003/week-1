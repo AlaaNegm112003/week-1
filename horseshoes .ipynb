{
 "cells": [
  {
   "cell_type": "code",
   "execution_count": 2,
   "id": "0cc9fbd7-fbf2-47b4-ae0f-9fa8ba9d5941",
   "metadata": {},
   "outputs": [
    {
     "name": "stdin",
     "output_type": "stream",
     "text": [
      " 7 7 7 6\n"
     ]
    },
    {
     "name": "stdout",
     "output_type": "stream",
     "text": [
      "2\n"
     ]
    }
   ],
   "source": [
    "s1, s2, s3, s4 = map(int, input().split())\n",
    "horseshoes_avaliable = {s1, s2, s3, s4}\n",
    "horseshoes_to_buy = 4 - len(horseshoes_avaliable)\n",
    "print(horseshoes_to_buy)"
   ]
  },
  {
   "cell_type": "code",
   "execution_count": null,
   "id": "b8ed3116-db74-4765-ae04-a59aff5c17fe",
   "metadata": {},
   "outputs": [],
   "source": []
  }
 ],
 "metadata": {
  "kernelspec": {
   "display_name": "anaconda-2024.02-py310",
   "language": "python",
   "name": "conda-env-anaconda-2024.02-py310-py"
  },
  "language_info": {
   "codemirror_mode": {
    "name": "ipython",
    "version": 3
   },
   "file_extension": ".py",
   "mimetype": "text/x-python",
   "name": "python",
   "nbconvert_exporter": "python",
   "pygments_lexer": "ipython3",
   "version": "3.10.14"
  }
 },
 "nbformat": 4,
 "nbformat_minor": 5
}
