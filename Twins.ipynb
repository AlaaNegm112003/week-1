{
 "cells": [
  {
   "cell_type": "code",
   "execution_count": 1,
   "id": "e2ce0053-9669-4378-b956-980638633238",
   "metadata": {},
   "outputs": [
    {
     "name": "stdin",
     "output_type": "stream",
     "text": [
      " 3\n",
      " 2 1 2\n"
     ]
    },
    {
     "name": "stdout",
     "output_type": "stream",
     "text": [
      "2\n"
     ]
    }
   ],
   "source": [
    "n = int(input())\n",
    "coins = list(map(int, input().split()))\n",
    "coins.sort(reverse=True)\n",
    "\n",
    "total_sum = sum(coins)\n",
    "selected_sum = 0\n",
    "coin_count = 0\n",
    "for i in coins:\n",
    "    selected_sum += i\n",
    "    coin_count += 1\n",
    "    # Check if the selected sum is greater than the remaining sum\n",
    "    if selected_sum > total_sum - selected_sum:\n",
    "        break\n",
    "\n",
    "print(coin_count)\n"
   ]
  },
  {
   "cell_type": "code",
   "execution_count": null,
   "id": "267b947f-2a2e-4461-9d86-2f7b2c32c9f0",
   "metadata": {},
   "outputs": [],
   "source": []
  }
 ],
 "metadata": {
  "kernelspec": {
   "display_name": "anaconda-2024.02-py310",
   "language": "python",
   "name": "conda-env-anaconda-2024.02-py310-py"
  },
  "language_info": {
   "codemirror_mode": {
    "name": "ipython",
    "version": 3
   },
   "file_extension": ".py",
   "mimetype": "text/x-python",
   "name": "python",
   "nbconvert_exporter": "python",
   "pygments_lexer": "ipython3",
   "version": "3.10.14"
  }
 },
 "nbformat": 4,
 "nbformat_minor": 5
}
