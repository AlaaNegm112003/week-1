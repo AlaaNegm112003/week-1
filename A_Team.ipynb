{
 "cells": [
  {
   "cell_type": "code",
   "execution_count": 2,
   "id": "1c6486c2-024e-4cd4-a879-442bd7806827",
   "metadata": {},
   "outputs": [
    {
     "name": "stdin",
     "output_type": "stream",
     "text": [
      " 3\n",
      "Enter three numbers:  1 0 0 \n",
      "Enter three numbers:  1 1 1 \n",
      "Enter three numbers:  1 1 0\n"
     ]
    },
    {
     "name": "stdout",
     "output_type": "stream",
     "text": [
      "2\n"
     ]
    }
   ],
   "source": [
    "n = int(input())\n",
    "solved_problems = 0\n",
    "for i in range(n):\n",
    "    a, b, c = map(int, input(\"Enter three numbers: \").split())\n",
    "    if a + b + c >= 2:\n",
    "        solved_problems += 1\n",
    "\n",
    "print(solved_problems)"
   ]
  }
 ],
 "metadata": {
  "kernelspec": {
   "display_name": "anaconda-panel-2023.05-py310",
   "language": "python",
   "name": "conda-env-anaconda-panel-2023.05-py310-py"
  },
  "language_info": {
   "codemirror_mode": {
    "name": "ipython",
    "version": 3
   },
   "file_extension": ".py",
   "mimetype": "text/x-python",
   "name": "python",
   "nbconvert_exporter": "python",
   "pygments_lexer": "ipython3",
   "version": "3.11.5"
  }
 },
 "nbformat": 4,
 "nbformat_minor": 5
}
