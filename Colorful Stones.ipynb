{
 "cells": [
  {
   "cell_type": "code",
   "execution_count": 5,
   "id": "635d8ec7-50b7-467f-97a7-9cc4410d9ede",
   "metadata": {},
   "outputs": [
    {
     "name": "stdin",
     "output_type": "stream",
     "text": [
      " BRRBGBRGRBGRGRRGGBGBGBRGBRGRGGGRBRRRBRBBBGRRRGGBBB\n",
      " BBRBGGRGRGBBBRBGRBRBBBBRBRRRBGBBGBBRRBBGGRBRRBRGRB\n"
     ]
    },
    {
     "name": "stdout",
     "output_type": "stream",
     "text": [
      "15\n"
     ]
    }
   ],
   "source": [
    "s = input()\n",
    "t = input()\n",
    "liss_pos = 0\n",
    "for i in range (len(t)):\n",
    "    if t[i]==s[liss_pos]:\n",
    "        liss_pos +=1\n",
    "\n",
    "print (liss_pos+1)"
   ]
  },
  {
   "cell_type": "code",
   "execution_count": null,
   "id": "f13ef9cc-f50a-4a86-8d45-28ccda4d8b6e",
   "metadata": {},
   "outputs": [],
   "source": []
  }
 ],
 "metadata": {
  "kernelspec": {
   "display_name": "anaconda-panel-2023.05-py310",
   "language": "python",
   "name": "conda-env-anaconda-panel-2023.05-py310-py"
  },
  "language_info": {
   "codemirror_mode": {
    "name": "ipython",
    "version": 3
   },
   "file_extension": ".py",
   "mimetype": "text/x-python",
   "name": "python",
   "nbconvert_exporter": "python",
   "pygments_lexer": "ipython3",
   "version": "3.11.5"
  }
 },
 "nbformat": 4,
 "nbformat_minor": 5
}
