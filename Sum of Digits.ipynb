{
 "cells": [
  {
   "cell_type": "code",
   "execution_count": 1,
   "id": "92567ca5-fc3a-4394-9a1b-2b00f4a0ff06",
   "metadata": {},
   "outputs": [
    {
     "name": "stdin",
     "output_type": "stream",
     "text": [
      " 991\n"
     ]
    },
    {
     "name": "stdout",
     "output_type": "stream",
     "text": [
      "3\n"
     ]
    }
   ],
   "source": [
    "n = input()\n",
    "operation_count = 0\n",
    "\n",
    "while len(n) > 1:\n",
    "    n = str(sum(int(digit) for digit in n))\n",
    "    operation_count += 1\n",
    "\n",
    "print(operation_count)\n"
   ]
  },
  {
   "cell_type": "code",
   "execution_count": null,
   "id": "2f789321-5a70-473d-906e-555a40679d70",
   "metadata": {},
   "outputs": [],
   "source": []
  }
 ],
 "metadata": {
  "kernelspec": {
   "display_name": "anaconda-2024.02-py310",
   "language": "python",
   "name": "conda-env-anaconda-2024.02-py310-py"
  },
  "language_info": {
   "codemirror_mode": {
    "name": "ipython",
    "version": 3
   },
   "file_extension": ".py",
   "mimetype": "text/x-python",
   "name": "python",
   "nbconvert_exporter": "python",
   "pygments_lexer": "ipython3",
   "version": "3.10.14"
  }
 },
 "nbformat": 4,
 "nbformat_minor": 5
}
